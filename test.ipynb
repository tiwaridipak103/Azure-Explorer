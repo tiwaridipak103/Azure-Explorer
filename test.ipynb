{
 "cells": [
  {
   "cell_type": "code",
   "execution_count": 1,
   "id": "71e85c41",
   "metadata": {},
   "outputs": [],
   "source": [
    "import numpy as np"
   ]
  },
  {
   "cell_type": "code",
   "execution_count": 2,
   "id": "464383b5",
   "metadata": {},
   "outputs": [],
   "source": [
    "samples = np.array([\n",
    "    [0.3, -1.2, 1.5],   # Series A\n",
    "    [2.0, 0.1, -0.5]    # Series B\n",
    "])  # Shape: (2, 3)\n",
    "\n",
    "permutations = np.array([\n",
    "    [1, 2, 0],  # Series A's permutation\n",
    "    [1, 2, 0]   # Series B's permutation\n",
    "])  # Same shape"
   ]
  },
  {
   "cell_type": "code",
   "execution_count": 6,
   "id": "827bb1a4",
   "metadata": {},
   "outputs": [],
   "source": [
    "n_rows, n_cols = permutations.shape"
   ]
  },
  {
   "cell_type": "code",
   "execution_count": 7,
   "id": "d61fcec2",
   "metadata": {},
   "outputs": [],
   "source": [
    "aux_row_idx = np.arange(n_rows)[:, None] * n_cols"
   ]
  },
  {
   "cell_type": "code",
   "execution_count": 8,
   "id": "dfb9aa09",
   "metadata": {},
   "outputs": [
    {
     "data": {
      "text/plain": [
       "array([[0],\n",
       "       [3]])"
      ]
     },
     "execution_count": 8,
     "metadata": {},
     "output_type": "execute_result"
    }
   ],
   "source": [
    "aux_row_idx"
   ]
  },
  {
   "cell_type": "code",
   "execution_count": 9,
   "id": "f6ffcca7",
   "metadata": {},
   "outputs": [],
   "source": [
    "aux_row_idx = np.repeat(aux_row_idx, repeats=n_cols, axis=1)"
   ]
  },
  {
   "cell_type": "code",
   "execution_count": 10,
   "id": "35bb4088",
   "metadata": {},
   "outputs": [
    {
     "data": {
      "text/plain": [
       "array([[0, 0, 0],\n",
       "       [3, 3, 3]])"
      ]
     },
     "execution_count": 10,
     "metadata": {},
     "output_type": "execute_result"
    }
   ],
   "source": [
    "aux_row_idx"
   ]
  },
  {
   "cell_type": "code",
   "execution_count": 11,
   "id": "d259c62c",
   "metadata": {},
   "outputs": [],
   "source": [
    "permutate_idxs = permutations.flatten() + aux_row_idx.flatten()"
   ]
  },
  {
   "cell_type": "code",
   "execution_count": 12,
   "id": "c78d1ebd",
   "metadata": {},
   "outputs": [
    {
     "data": {
      "text/plain": [
       "array([1, 2, 0, 4, 5, 3])"
      ]
     },
     "execution_count": 12,
     "metadata": {},
     "output_type": "execute_result"
    }
   ],
   "source": [
    "permutate_idxs"
   ]
  },
  {
   "cell_type": "code",
   "execution_count": 14,
   "id": "7c24e65c",
   "metadata": {},
   "outputs": [
    {
     "data": {
      "text/plain": [
       "array([ 0.3, -1.2,  1.5,  2. ,  0.1, -0.5])"
      ]
     },
     "execution_count": 14,
     "metadata": {},
     "output_type": "execute_result"
    }
   ],
   "source": [
    "permutated_samples = samples.flatten()\n",
    "permutated_samples"
   ]
  },
  {
   "cell_type": "code",
   "execution_count": 15,
   "id": "e7d6181a",
   "metadata": {},
   "outputs": [
    {
     "data": {
      "text/plain": [
       "array([-1.2,  1.5,  0.3,  0.1, -0.5,  2. ])"
      ]
     },
     "execution_count": 15,
     "metadata": {},
     "output_type": "execute_result"
    }
   ],
   "source": [
    "permutated_samples = permutated_samples[permutate_idxs]\n",
    "permutated_samples"
   ]
  },
  {
   "cell_type": "code",
   "execution_count": 16,
   "id": "53dad73a",
   "metadata": {},
   "outputs": [
    {
     "data": {
      "text/plain": [
       "array([[-1.2,  1.5,  0.3],\n",
       "       [ 0.1, -0.5,  2. ]])"
      ]
     },
     "execution_count": 16,
     "metadata": {},
     "output_type": "execute_result"
    }
   ],
   "source": [
    "permutated_samples = permutated_samples.reshape(n_rows, n_cols)\n",
    "permutated_samples"
   ]
  },
  {
   "cell_type": "code",
   "execution_count": 28,
   "id": "d284c87c",
   "metadata": {},
   "outputs": [],
   "source": [
    "def _permutate_samples( samples, permutations):\n",
    "        \"\"\"Permutate Samples\n",
    "\n",
    "        Applies efficient vectorized permutation on the samples.\n",
    "\n",
    "        **Parameters**<br>\n",
    "        `samples`: np.array [series,samples], independent base samples.<br>\n",
    "        `permutations`: np.array [series,samples], permutation ranks with wich\n",
    "                  which `samples` dependence will be restored see `_obtain_ranks`.<br>\n",
    "\n",
    "        **Returns**<br>\n",
    "        `permutated_samples`: np.array.<br>\n",
    "        \"\"\"\n",
    "        # Generate auxiliary and flat permutation indexes\n",
    "        n_rows, n_cols = permutations.shape\n",
    "        aux_row_idx = np.arange(n_rows)[:, None] * n_cols\n",
    "        aux_row_idx = np.repeat(aux_row_idx, repeats=n_cols, axis=1)\n",
    "        permutate_idxs = permutations.flatten() + aux_row_idx.flatten()\n",
    "\n",
    "        # Apply flat permutation indexes and recover original shape\n",
    "        permutated_samples = samples.flatten()\n",
    "        permutated_samples = permutated_samples[permutate_idxs]\n",
    "        permutated_samples = permutated_samples.reshape(n_rows, n_cols)\n",
    "        return permutated_samples"
   ]
  },
  {
   "cell_type": "code",
   "execution_count": 25,
   "id": "93a4dc63",
   "metadata": {},
   "outputs": [],
   "source": [
    "prediction_samples = np.array([\n",
    "    [  # Series A\n",
    "        [10, 20, 30],  # t=0\n",
    "        [15, 25, 35]   # t=1\n",
    "    ],\n",
    "    [  # Series B\n",
    "        [40, 50, 60],  # t=0\n",
    "        [45, 55, 65]   # t=1\n",
    "    ]\n",
    "])  # Shape: (2 series, 2 horizon, 3 samples)\n",
    "\n",
    "permutations = np.array([\n",
    "    [2, 0, 1],  # For Series A\n",
    "    [1, 2, 0]   # For Series B\n",
    "])"
   ]
  },
  {
   "cell_type": "code",
   "execution_count": 26,
   "id": "6d1bd309",
   "metadata": {},
   "outputs": [],
   "source": [
    "_, n_horizon, _ = prediction_samples.shape"
   ]
  },
  {
   "cell_type": "code",
   "execution_count": 20,
   "id": "1f7ca983",
   "metadata": {},
   "outputs": [],
   "source": [
    "permutated_prediction_samples = prediction_samples.copy()"
   ]
  },
  {
   "cell_type": "code",
   "execution_count": 29,
   "id": "3c920a1a",
   "metadata": {},
   "outputs": [],
   "source": [
    "for t in range(n_horizon):\n",
    "    permutated_prediction_samples[:, t, :] = _permutate_samples(\n",
    "        prediction_samples[:, t, :], permutations\n",
    "    )"
   ]
  },
  {
   "cell_type": "code",
   "execution_count": 30,
   "id": "97d7ef3d",
   "metadata": {},
   "outputs": [
    {
     "data": {
      "text/plain": [
       "array([[15, 25, 35],\n",
       "       [45, 55, 65]])"
      ]
     },
     "execution_count": 30,
     "metadata": {},
     "output_type": "execute_result"
    }
   ],
   "source": [
    "prediction_samples[:, t, :]"
   ]
  },
  {
   "cell_type": "code",
   "execution_count": 31,
   "id": "a9cd886c",
   "metadata": {},
   "outputs": [
    {
     "data": {
      "text/plain": [
       "array([[[30., 10., 20.],\n",
       "        [35., 15., 25.]],\n",
       "\n",
       "       [[50., 60., 40.],\n",
       "        [55., 65., 45.]]])"
      ]
     },
     "execution_count": 31,
     "metadata": {},
     "output_type": "execute_result"
    }
   ],
   "source": [
    "permutated_prediction_samples"
   ]
  },
  {
   "cell_type": "code",
   "execution_count": 33,
   "id": "2845b2b2",
   "metadata": {},
   "outputs": [],
   "source": [
    "y_insample = np.array([\n",
    "    [110, 112],  # Total\n",
    "    [60,  65],   # A\n",
    "    [50,  47],   # B\n",
    "])\n",
    "\n",
    "y_hat_insample = np.array([\n",
    "    [108, 110],  # Total\n",
    "    [58,  63],   # A\n",
    "    [50,  47],   # B\n",
    "])\n",
    "\n",
    "y_hat = np.array([\n",
    "    [109, 111],  # Total\n",
    "    [59,  64],   # A\n",
    "    [50,  47],   # B\n",
    "])\n",
    "\n",
    "sigmah = np.array([\n",
    "    [2, 2],      # Total\n",
    "    [1.5, 1.5],  # A\n",
    "    [1.2, 1.2],  # B\n",
    "])\n"
   ]
  },
  {
   "cell_type": "code",
   "execution_count": 34,
   "id": "f7677501",
   "metadata": {},
   "outputs": [
    {
     "data": {
      "text/plain": [
       "array([[2, 2],\n",
       "       [2, 2],\n",
       "       [0, 0]])"
      ]
     },
     "execution_count": 34,
     "metadata": {},
     "output_type": "execute_result"
    }
   ],
   "source": [
    "# Compute residuals and rank permutations\n",
    "residuals = y_insample - y_hat_insample\n",
    "residuals = residuals[:, np.isnan(residuals).sum(axis=0) == 0]\n",
    "residuals"
   ]
  },
  {
   "cell_type": "code",
   "execution_count": 35,
   "id": "55f18809",
   "metadata": {},
   "outputs": [],
   "source": [
    "num_samples = 5"
   ]
  },
  {
   "cell_type": "code",
   "execution_count": 36,
   "id": "18c27ce9",
   "metadata": {},
   "outputs": [],
   "source": [
    "# Sample h step-ahead base marginal distributions\n",
    "if num_samples is None:\n",
    "    num_samples = residuals.shape[1]"
   ]
  },
  {
   "cell_type": "code",
   "execution_count": 37,
   "id": "cf024da8",
   "metadata": {},
   "outputs": [
    {
     "data": {
      "text/plain": [
       "5"
      ]
     },
     "execution_count": 37,
     "metadata": {},
     "output_type": "execute_result"
    }
   ],
   "source": [
    "num_samples"
   ]
  },
  {
   "cell_type": "code",
   "execution_count": 38,
   "id": "7d116196",
   "metadata": {},
   "outputs": [],
   "source": [
    "# Expand residuals to match num_samples [(a,b),T] -> [(a,b),num_samples]\n",
    "rng = np.random.default_rng(40)\n",
    "if num_samples > residuals.shape[1]:\n",
    "    residuals_idxs = rng.choice(residuals.shape[1], size=num_samples)\n",
    "else:\n",
    "    residuals_idxs = rng.choice(\n",
    "        residuals.shape[1], size=num_samples, replace=False\n",
    "    )"
   ]
  },
  {
   "cell_type": "code",
   "execution_count": 39,
   "id": "73bb260f",
   "metadata": {},
   "outputs": [
    {
     "data": {
      "text/plain": [
       "array([1, 1, 0, 1, 0])"
      ]
     },
     "execution_count": 39,
     "metadata": {},
     "output_type": "execute_result"
    }
   ],
   "source": [
    "residuals_idxs"
   ]
  },
  {
   "cell_type": "code",
   "execution_count": 40,
   "id": "12ea452f",
   "metadata": {},
   "outputs": [
    {
     "data": {
      "text/plain": [
       "array([[2, 2, 2, 2, 2],\n",
       "       [2, 2, 2, 2, 2],\n",
       "       [0, 0, 0, 0, 0]])"
      ]
     },
     "execution_count": 40,
     "metadata": {},
     "output_type": "execute_result"
    }
   ],
   "source": [
    "residuals = residuals[:, residuals_idxs]\n",
    "residuals"
   ]
  },
  {
   "cell_type": "code",
   "execution_count": 41,
   "id": "f047dce6",
   "metadata": {},
   "outputs": [
    {
     "data": {
      "text/plain": [
       "array([[2, 2, 2, 2, 2],\n",
       "       [2, 2, 2, 2, 2],\n",
       "       [0, 0, 0, 0, 0]])"
      ]
     },
     "execution_count": 41,
     "metadata": {},
     "output_type": "execute_result"
    }
   ],
   "source": [
    "residuals"
   ]
  },
  {
   "cell_type": "code",
   "execution_count": 42,
   "id": "e5ff4d4a",
   "metadata": {},
   "outputs": [],
   "source": [
    "def _obtain_ranks(array):\n",
    "    \"\"\"Vector ranks\n",
    "\n",
    "    Efficiently obtain vector ranks.\n",
    "    Example `array=[4,2,7,1]` -> `ranks=[2, 1, 3, 0]`.\n",
    "\n",
    "    **Parameters**<br>\n",
    "    `array`: np.array, matrix with floats or integers on which the\n",
    "            ranks will be computed on the second dimension.<br>\n",
    "\n",
    "    **Returns**<br>\n",
    "    `ranks`: np.array, matrix with ranks along the second dimension.<br>\n",
    "    \"\"\"\n",
    "    temp = array.argsort(axis=1)\n",
    "    ranks = np.empty_like(temp)\n",
    "    a_range = np.arange(temp.shape[1])\n",
    "    for i_row in range(temp.shape[0]):\n",
    "        ranks[i_row, temp[i_row, :]] = a_range\n",
    "    return ranks"
   ]
  },
  {
   "cell_type": "code",
   "execution_count": 43,
   "id": "4f39b460",
   "metadata": {},
   "outputs": [
    {
     "data": {
      "text/plain": [
       "array([[0, 1, 2, 3, 4],\n",
       "       [0, 1, 2, 3, 4],\n",
       "       [0, 1, 2, 3, 4]])"
      ]
     },
     "execution_count": 43,
     "metadata": {},
     "output_type": "execute_result"
    }
   ],
   "source": [
    "rank_permutations = _obtain_ranks(residuals)\n",
    "rank_permutations"
   ]
  },
  {
   "cell_type": "code",
   "execution_count": 45,
   "id": "106c0c0d",
   "metadata": {},
   "outputs": [],
   "source": [
    "n_series, n_horizon = y_hat.shape"
   ]
  },
  {
   "cell_type": "code",
   "execution_count": 46,
   "id": "6def4203",
   "metadata": {},
   "outputs": [],
   "source": [
    "base_samples = np.array(\n",
    "            [\n",
    "                rng.normal(loc=m, scale=s, size=num_samples)\n",
    "                for m, s in zip(y_hat.flatten(), sigmah.flatten())\n",
    "            ]\n",
    "        )"
   ]
  },
  {
   "cell_type": "code",
   "execution_count": 47,
   "id": "7b7ea301",
   "metadata": {},
   "outputs": [
    {
     "data": {
      "text/plain": [
       "array([[110.53731626, 106.92412907, 106.94792733, 108.21476148,\n",
       "        111.77545789],\n",
       "       [109.16509808, 109.60653796, 111.38661782, 111.28930431,\n",
       "        111.77218752],\n",
       "       [ 58.14411719,  57.59662455,  56.99672381,  59.49427972,\n",
       "         58.68868815],\n",
       "       [ 64.64015676,  64.06751449,  66.08571109,  64.87473998,\n",
       "         64.24780695],\n",
       "       [ 50.0528089 ,  49.38776753,  49.53520114,  49.61597819,\n",
       "         51.82631025],\n",
       "       [ 46.77298378,  46.28402848,  47.28980022,  47.86670571,\n",
       "         45.64617933]])"
      ]
     },
     "execution_count": 47,
     "metadata": {},
     "output_type": "execute_result"
    }
   ],
   "source": [
    "base_samples"
   ]
  },
  {
   "cell_type": "code",
   "execution_count": 49,
   "id": "b1a287c2",
   "metadata": {},
   "outputs": [
    {
     "data": {
      "text/plain": [
       "array([[[110.53731626, 106.92412907, 106.94792733, 108.21476148,\n",
       "         111.77545789],\n",
       "        [109.16509808, 109.60653796, 111.38661782, 111.28930431,\n",
       "         111.77218752]],\n",
       "\n",
       "       [[ 58.14411719,  57.59662455,  56.99672381,  59.49427972,\n",
       "          58.68868815],\n",
       "        [ 64.64015676,  64.06751449,  66.08571109,  64.87473998,\n",
       "          64.24780695]],\n",
       "\n",
       "       [[ 50.0528089 ,  49.38776753,  49.53520114,  49.61597819,\n",
       "          51.82631025],\n",
       "        [ 46.77298378,  46.28402848,  47.28980022,  47.86670571,\n",
       "          45.64617933]]])"
      ]
     },
     "execution_count": 49,
     "metadata": {},
     "output_type": "execute_result"
    }
   ],
   "source": [
    "base_samples = base_samples.reshape(n_series, n_horizon, num_samples)\n",
    "base_samples"
   ]
  },
  {
   "cell_type": "code",
   "execution_count": 50,
   "id": "5b5a905e",
   "metadata": {},
   "outputs": [],
   "source": [
    "# Initialize PERMBU utility\n",
    "rec_samples = base_samples.copy()"
   ]
  },
  {
   "cell_type": "code",
   "execution_count": 56,
   "id": "cd98caab",
   "metadata": {},
   "outputs": [],
   "source": [
    "def _nonzero_indexes_by_row(M):\n",
    "        return [np.nonzero(M[row, :])[0] for row in range(len(M))]"
   ]
  },
  {
   "cell_type": "code",
   "execution_count": 57,
   "id": "509739cc",
   "metadata": {},
   "outputs": [],
   "source": [
    "S = np.array([\n",
    "    [1, 1, 0],  # Total = A + B\n",
    "    [0, 1, 0],  # A\n",
    "    [0, 0, 1],  # B\n",
    "])"
   ]
  },
  {
   "cell_type": "code",
   "execution_count": 61,
   "id": "86b0ac75",
   "metadata": {},
   "outputs": [],
   "source": [
    "import numpy as np\n",
    "\n",
    "def pad_to_max_length(arrays, pad_value=-1):\n",
    "    max_len = max(len(a) for a in arrays)\n",
    "    return np.vstack([\n",
    "        np.pad(a, (0, max_len - len(a)), constant_values=pad_value)\n",
    "        for a in arrays\n",
    "    ])\n",
    "\n",
    "#padded_hier_links = pad_to_max_length(_nonzero_indexes_by_row(S.T))"
   ]
  },
  {
   "cell_type": "code",
   "execution_count": 62,
   "id": "364faa85",
   "metadata": {},
   "outputs": [],
   "source": [
    "from sklearn.preprocessing import OneHotEncoder\n",
    "# Initialize PERMBU utility\n",
    "rec_samples = base_samples.copy()\n",
    "try:\n",
    "    encoder = OneHotEncoder(sparse_output=False, dtype=np.float64)\n",
    "except TypeError:\n",
    "    encoder = OneHotEncoder(sparse=False, dtype=np.float64)\n",
    "#hier_links = np.vstack(_nonzero_indexes_by_row(S.T))\n",
    "hier_links = pad_to_max_length(_nonzero_indexes_by_row(S.T))"
   ]
  },
  {
   "cell_type": "code",
   "execution_count": 66,
   "id": "8dd5097a",
   "metadata": {},
   "outputs": [
    {
     "data": {
      "text/plain": [
       "array([[ 0, -1],\n",
       "       [ 0,  1],\n",
       "       [ 2, -1]])"
      ]
     },
     "execution_count": 66,
     "metadata": {},
     "output_type": "execute_result"
    }
   ],
   "source": [
    "hier_links"
   ]
  },
  {
   "cell_type": "code",
   "execution_count": 67,
   "id": "772903b8",
   "metadata": {},
   "outputs": [],
   "source": [
    "# BottomUp hierarchy traversing\n",
    "hier_levels = hier_links.shape[1] - 1"
   ]
  },
  {
   "cell_type": "code",
   "execution_count": 69,
   "id": "d9a186f4",
   "metadata": {},
   "outputs": [],
   "source": [
    "for level_idx in reversed(range(hier_levels)):\n",
    "    # Obtain aggregation matrix from parent/children links\n",
    "    children_links = np.unique(hier_links[:, level_idx : level_idx + 2], axis=0)\n",
    "    children_idxs = np.unique(children_links[:, 1])\n",
    "    parent_idxs = np.unique(children_links[:, 0])\n",
    "    Agg = encoder.fit_transform(children_links).T\n",
    "    Agg = Agg[: len(parent_idxs), :]"
   ]
  },
  {
   "cell_type": "code",
   "execution_count": 72,
   "id": "231b6629",
   "metadata": {},
   "outputs": [
    {
     "data": {
      "text/plain": [
       "array([[ 0, -1],\n",
       "       [ 0,  1],\n",
       "       [ 2, -1]])"
      ]
     },
     "execution_count": 72,
     "metadata": {},
     "output_type": "execute_result"
    }
   ],
   "source": [
    "hier_links[:, 0 : 0 + 2]"
   ]
  },
  {
   "cell_type": "code",
   "execution_count": 81,
   "id": "da73bdcd",
   "metadata": {},
   "outputs": [
    {
     "data": {
      "text/plain": [
       "array([[ 0, -1],\n",
       "       [ 0,  1],\n",
       "       [ 2, -1]])"
      ]
     },
     "execution_count": 81,
     "metadata": {},
     "output_type": "execute_result"
    }
   ],
   "source": [
    "children_links = np.unique(hier_links[:, 0 : 0 + 2], axis=0)\n",
    "children_links"
   ]
  },
  {
   "cell_type": "code",
   "execution_count": 82,
   "id": "9f959403",
   "metadata": {},
   "outputs": [
    {
     "data": {
      "text/plain": [
       "array([-1,  1])"
      ]
     },
     "execution_count": 82,
     "metadata": {},
     "output_type": "execute_result"
    }
   ],
   "source": [
    "children_idxs = np.unique(children_links[:, 1])\n",
    "children_idxs"
   ]
  },
  {
   "cell_type": "code",
   "execution_count": 83,
   "id": "f60bf599",
   "metadata": {},
   "outputs": [
    {
     "data": {
      "text/plain": [
       "array([0, 2])"
      ]
     },
     "execution_count": 83,
     "metadata": {},
     "output_type": "execute_result"
    }
   ],
   "source": [
    "parent_idxs = np.unique(children_links[:, 0])\n",
    "parent_idxs"
   ]
  },
  {
   "cell_type": "code",
   "execution_count": 85,
   "id": "815ce5de",
   "metadata": {},
   "outputs": [
    {
     "data": {
      "text/plain": [
       "array([[1., 0., 1., 0.],\n",
       "       [1., 0., 0., 1.],\n",
       "       [0., 1., 1., 0.]])"
      ]
     },
     "execution_count": 85,
     "metadata": {},
     "output_type": "execute_result"
    }
   ],
   "source": [
    "Agg = encoder.fit_transform(children_links) #.T\n",
    "Agg"
   ]
  },
  {
   "cell_type": "code",
   "execution_count": null,
   "id": "11a69885",
   "metadata": {},
   "outputs": [],
   "source": []
  }
 ],
 "metadata": {
  "kernelspec": {
   "display_name": "Python 3",
   "language": "python",
   "name": "python3"
  },
  "language_info": {
   "codemirror_mode": {
    "name": "ipython",
    "version": 3
   },
   "file_extension": ".py",
   "mimetype": "text/x-python",
   "name": "python",
   "nbconvert_exporter": "python",
   "pygments_lexer": "ipython3",
   "version": "3.11.11"
  }
 },
 "nbformat": 4,
 "nbformat_minor": 5
}
